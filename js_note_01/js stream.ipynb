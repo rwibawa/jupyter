{
 "cells": [
  {
   "cell_type": "markdown",
   "metadata": {},
   "source": [
    "# js stream\n",
    "Learn js stream and map-reduce.\n",
    "\n",
    "## 1. create an int array from 0-9"
   ]
  },
  {
   "cell_type": "code",
   "execution_count": 1,
   "metadata": {},
   "outputs": [
    {
     "data": {
      "text/plain": [
       "[\n",
       "  0, 1, 2, 3, 4,\n",
       "  5, 6, 7, 8, 9\n",
       "]"
      ]
     },
     "execution_count": 1,
     "metadata": {},
     "output_type": "execute_result"
    }
   ],
   "source": [
    "var a2 = [...Array(10).keys()];\n",
    "\n",
    "a2"
   ]
  },
  {
   "cell_type": "markdown",
   "metadata": {},
   "source": [
    "## 2. count words with map-reduce"
   ]
  },
  {
   "cell_type": "code",
   "execution_count": 2,
   "metadata": {},
   "outputs": [
    {
     "data": {
      "text/plain": [
       "{ lorem: 4, ipsum: 2, dolor: 1 }"
      ]
     },
     "execution_count": 2,
     "metadata": {},
     "output_type": "execute_result"
    }
   ],
   "source": [
    "const words = [ \"lorem\", \"ipsum\", \"dolor\", \"lorem\", \"ipsum\", \"lorem\", \"lorem\" ];\n",
    "words\n",
    ".reduce((acc, entry) => {\n",
    "    acc[entry] = acc[entry] ? acc[entry] + 1 : 1;\n",
    "    return acc;\n",
    "}, {});"
   ]
  }
 ],
 "metadata": {
  "kernelspec": {
   "display_name": "Javascript (Node.js)",
   "language": "javascript",
   "name": "javascript"
  },
  "language_info": {
   "file_extension": ".js",
   "mimetype": "application/javascript",
   "name": "javascript",
   "version": "12.10.0"
  }
 },
 "nbformat": 4,
 "nbformat_minor": 4
}
